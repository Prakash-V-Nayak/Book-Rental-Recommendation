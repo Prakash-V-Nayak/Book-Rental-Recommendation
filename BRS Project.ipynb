{
 "cells": [
  {
   "cell_type": "markdown",
   "id": "ddf9ce70-f62a-4827-82da-8fe04b01da59",
   "metadata": {},
   "source": [
    "## Import Libraries"
   ]
  },
  {
   "cell_type": "code",
   "execution_count": 1,
   "id": "5e4430ff-b161-47e6-b90b-12747cabcaa8",
   "metadata": {},
   "outputs": [],
   "source": [
    "import pandas as pd\n",
    "import numpy as np\n",
    "import matplotlib.pyplot as plt\n",
    "import seaborn as sns\n",
    "from sklearn.metrics.pairwise import cosine_similarity\n",
    "import warnings as w\n",
    "w.filterwarnings('ignore')"
   ]
  },
  {
   "cell_type": "markdown",
   "id": "f8368785-4f70-43da-b93e-2d377aba5c94",
   "metadata": {},
   "source": [
    "## Loading the data files"
   ]
  },
  {
   "cell_type": "code",
   "execution_count": 2,
   "id": "6737581f-9bfa-4a77-9dac-8d8c04715434",
   "metadata": {},
   "outputs": [],
   "source": [
    "books = pd.read_csv(\"BX-Books.csv\", encoding= 'latin-1')\n",
    "users = pd.read_csv(\"BX-Users.csv\", encoding= 'latin-1')\n",
    "ratings = pd.read_csv(\"BX-Book-Ratings.csv\", encoding= 'latin-1')"
   ]
  },
  {
   "cell_type": "markdown",
   "id": "f29e8192-3de7-41f8-88dc-510a8da847d9",
   "metadata": {},
   "source": [
    "## Exploratory data analysis (EDA)"
   ]
  },
  {
   "cell_type": "markdown",
   "id": "08e695d7-2d30-4938-ad78-01323f9d9f3e",
   "metadata": {},
   "source": [
    "#### Books Dataset"
   ]
  },
  {
   "cell_type": "code",
   "execution_count": 3,
   "id": "606add9c-a05f-4a94-9b38-83aaa00417e3",
   "metadata": {},
   "outputs": [
    {
     "data": {
      "text/plain": [
       "(271379, 5)"
      ]
     },
     "execution_count": 3,
     "metadata": {},
     "output_type": "execute_result"
    }
   ],
   "source": [
    "books.shape"
   ]
  },
  {
   "cell_type": "code",
   "execution_count": 4,
   "id": "aa8edfc3-a211-4e3d-b372-8fd6063a07aa",
   "metadata": {},
   "outputs": [
    {
     "name": "stdout",
     "output_type": "stream",
     "text": [
      "<class 'pandas.core.frame.DataFrame'>\n",
      "RangeIndex: 271379 entries, 0 to 271378\n",
      "Data columns (total 5 columns):\n",
      " #   Column               Non-Null Count   Dtype \n",
      "---  ------               --------------   ----- \n",
      " 0   isbn                 271379 non-null  object\n",
      " 1   book_title           271379 non-null  object\n",
      " 2   book_author          271377 non-null  object\n",
      " 3   year_of_publication  271379 non-null  object\n",
      " 4   publisher            271377 non-null  object\n",
      "dtypes: object(5)\n",
      "memory usage: 10.4+ MB\n"
     ]
    }
   ],
   "source": [
    "books.info()"
   ]
  },
  {
   "cell_type": "markdown",
   "id": "f8304837-1932-4537-bda6-b72cdc97c393",
   "metadata": {},
   "source": [
    "#### Users Dataset"
   ]
  },
  {
   "cell_type": "code",
   "execution_count": 5,
   "id": "a124e1c7-59e1-4b65-8c00-47f0e0679dd5",
   "metadata": {},
   "outputs": [
    {
     "data": {
      "text/plain": [
       "(278859, 3)"
      ]
     },
     "execution_count": 5,
     "metadata": {},
     "output_type": "execute_result"
    }
   ],
   "source": [
    "users.shape"
   ]
  },
  {
   "cell_type": "code",
   "execution_count": 6,
   "id": "916537d6-d9bd-4470-b05f-be71803e37dc",
   "metadata": {},
   "outputs": [
    {
     "name": "stdout",
     "output_type": "stream",
     "text": [
      "<class 'pandas.core.frame.DataFrame'>\n",
      "RangeIndex: 278859 entries, 0 to 278858\n",
      "Data columns (total 3 columns):\n",
      " #   Column    Non-Null Count   Dtype  \n",
      "---  ------    --------------   -----  \n",
      " 0   user_id   278859 non-null  object \n",
      " 1   Location  278858 non-null  object \n",
      " 2   Age       168096 non-null  float64\n",
      "dtypes: float64(1), object(2)\n",
      "memory usage: 6.4+ MB\n"
     ]
    }
   ],
   "source": [
    "users.info()"
   ]
  },
  {
   "cell_type": "markdown",
   "id": "59bf3d05-4205-4d14-a212-59b4213f12cb",
   "metadata": {},
   "source": [
    "#### Ratings Dataset"
   ]
  },
  {
   "cell_type": "code",
   "execution_count": 7,
   "id": "0c5afac6-f3a5-49f1-aef1-c363cfd5e1ce",
   "metadata": {},
   "outputs": [
    {
     "data": {
      "text/plain": [
       "(1048575, 3)"
      ]
     },
     "execution_count": 7,
     "metadata": {},
     "output_type": "execute_result"
    }
   ],
   "source": [
    "ratings.shape"
   ]
  },
  {
   "cell_type": "code",
   "execution_count": 8,
   "id": "d3710d84-6d06-4c64-b43e-a1dc87c0ef09",
   "metadata": {},
   "outputs": [
    {
     "name": "stdout",
     "output_type": "stream",
     "text": [
      "<class 'pandas.core.frame.DataFrame'>\n",
      "RangeIndex: 1048575 entries, 0 to 1048574\n",
      "Data columns (total 3 columns):\n",
      " #   Column   Non-Null Count    Dtype \n",
      "---  ------   --------------    ----- \n",
      " 0   user_id  1048575 non-null  int64 \n",
      " 1   isbn     1048575 non-null  object\n",
      " 2   rating   1048575 non-null  int64 \n",
      "dtypes: int64(2), object(1)\n",
      "memory usage: 24.0+ MB\n"
     ]
    }
   ],
   "source": [
    "ratings.info()"
   ]
  },
  {
   "cell_type": "code",
   "execution_count": 9,
   "id": "449c8271-9e07-4a82-818c-d005314855cb",
   "metadata": {
    "scrolled": true
   },
   "outputs": [
    {
     "data": {
      "text/plain": [
       "<Axes: xlabel='rating'>"
      ]
     },
     "execution_count": 9,
     "metadata": {},
     "output_type": "execute_result"
    },
    {
     "data": {
      "image/png": "[encoded data removed]",
      "text/plain": [
       "<Figure size 640x480 with 1 Axes>"
      ]
     },
     "metadata": {},
     "output_type": "display_data"
    }
   ],
   "source": [
    "ratings['rating'].value_counts().plot(kind='bar')"
   ]
  },
  {
   "cell_type": "markdown",
   "id": "9158cddb-0710-44a5-bc10-25c8c85afd0c",
   "metadata": {},
   "source": [
    "#### Find & Clean NaN values in Dataset"
   ]
  },
  {
   "cell_type": "code",
   "execution_count": 10,
   "id": "3c642443-84d7-4e97-9ec8-fba434e4052d",
   "metadata": {},
   "outputs": [
    {
     "data": {
      "text/plain": [
       "isbn                   0\n",
       "book_title             0\n",
       "book_author            2\n",
       "year_of_publication    0\n",
       "publisher              2\n",
       "dtype: int64"
      ]
     },
     "execution_count": 10,
     "metadata": {},
     "output_type": "execute_result"
    }
   ],
   "source": [
    "books.isna().sum()"
   ]
  },
  {
   "cell_type": "code",
   "execution_count": 11,
   "id": "fa7cde53-5e80-45a9-9096-d8a4ba3f3af2",
   "metadata": {},
   "outputs": [],
   "source": [
    "books.dropna(inplace=True)"
   ]
  },
  {
   "cell_type": "code",
   "execution_count": 12,
   "id": "c093c14a-45f2-4f1e-a000-bb1660370a01",
   "metadata": {},
   "outputs": [
    {
     "data": {
      "text/plain": [
       "isbn                   0\n",
       "book_title             0\n",
       "book_author            0\n",
       "year_of_publication    0\n",
       "publisher              0\n",
       "dtype: int64"
      ]
     },
     "execution_count": 12,
     "metadata": {},
     "output_type": "execute_result"
    }
   ],
   "source": [
    "books.isna().sum()"
   ]
  },
  {
   "cell_type": "code",
   "execution_count": 13,
   "id": "d2c7a61d-4c36-477f-9a6d-1cb8cec65f96",
   "metadata": {},
   "outputs": [
    {
     "data": {
      "text/plain": [
       "array(['2002', '1999', '2001', '2000', '1998', '1997', '2003', '1996',\n",
       "       '1995', '1994', '1993', '1992', '1991', '1990', '1989', '1988',\n",
       "       '1987', '2004', '1986', '1985', '1984', '0', '1983', '1982',\n",
       "       '1981', '1980', '1979', '1978', '1977', '1976', '1975', '1974',\n",
       "       '1973', '1972', 2000, '1971', 2001, 1999, 1997, 1998, 2002, 1996,\n",
       "       2003, '1970', 1995, 1994, 1992, 1993, 1991, '1969', 1989, 1990,\n",
       "       1988, 1987, '1968', 1986, 1985, 1984, 2004, '1965', '1966', '1967',\n",
       "       1983, 1982, 0, '1964', 1981, '1960', '1961', '1963', '1962',\n",
       "       '1959', 1978, 1980, '1958', '1957', 1979, '1956', 1977, '1955',\n",
       "       '1953', 1976, 1975, '1954', '2005', 1973, 1974, '1951', '1940',\n",
       "       '1952', '1920', '1950', 1970, 1972, 1971, '1911', '1942', '1947',\n",
       "       1966, '1946', '1930', '1923', '1941', '1949', '1939', '1948',\n",
       "       '1945', 1969, 1964, '1943', '1936', '2030', '1938', '1929', 1967,\n",
       "       '1932', '1901', '1937', 1968, '1944', '1933', 1951, '2006', 1960,\n",
       "       1959, 1961, '1900', '1935', '2020', 1963, '1931', '2011', 2005,\n",
       "       '1926', '1928', '1925', '2050', '1927', '1902',\n",
       "       'DK Publishing Inc', '2010', '1924', '1921', '1922', 1901, '1909',\n",
       "       1950, 1940, 1965, 1949, 1943, 1946, 1958, 1957, 1955, 1956, 1962,\n",
       "       1920, 1954, 1952, 1953, 1930, 'George H. Scherr', 'Alan Rich',\n",
       "       'Karen T. Whittenburg', '1908', 'Stan Berenstain',\n",
       "       'K.C. Constantine', 'Salvador de Madariaga', '1917', '2026',\n",
       "       '2038', 'ROBERT A. WILSON', '1806', '1910', '1934', '1914',\n",
       "       'Frank Muir', '1904', '\\\\\"Freedom Song\\\\\"\"', 'John Peterman',\n",
       "       '1906', 'Francine Pascal', 'Bart Rulon', ' Learning\"', '2037',\n",
       "       '1376', 'Beatrix Potter', '2024', 'Isadora Duncan', '1897', '1919',\n",
       "       ' &amp', '2021', '1378', '2008', 'Gallimard', 'Jules Janin',\n",
       "       'John Alderson Foote', '2012', 'Luella Hill', 1929], dtype=object)"
      ]
     },
     "execution_count": 13,
     "metadata": {},
     "output_type": "execute_result"
    }
   ],
   "source": [
    "books[\"year_of_publication\"].value_counts().index.values"
   ]
  },
  {
   "cell_type": "code",
   "execution_count": 14,
   "id": "41567bce-8c81-4720-8fe4-e5e880bcbfd8",
   "metadata": {},
   "outputs": [
    {
     "data": {
      "text/plain": [
       "(271375,)"
      ]
     },
     "execution_count": 14,
     "metadata": {},
     "output_type": "execute_result"
    }
   ],
   "source": [
    "books[\"year_of_publication\"].shape"
   ]
  },
  {
   "cell_type": "code",
   "execution_count": 15,
   "id": "388cb614-84aa-4042-a0c2-806fe613204e",
   "metadata": {},
   "outputs": [],
   "source": [
    "years = books[\"year_of_publication\"].astype(str).str.isnumeric()\n",
    "\n",
    "books = books[years]"
   ]
  },
  {
   "cell_type": "code",
   "execution_count": 16,
   "id": "b0654a92-0c0e-4177-afc5-70aaf0a720db",
   "metadata": {},
   "outputs": [
    {
     "data": {
      "text/plain": [
       "array(['2002', '1999', '2001', '2000', '1998', '1997', '2003', '1996',\n",
       "       '1995', '1994', '1993', '1992', '1991', '1990', '1989', '1988',\n",
       "       '1987', '2004', '1986', '1985', '1984', '0', '1983', '1982',\n",
       "       '1981', '1980', '1979', '1978', '1977', '1976', '1975', '1974',\n",
       "       '1973', '1972', 2000, '1971', 2001, 1999, 1997, 1998, 2002, 1996,\n",
       "       2003, '1970', 1995, 1994, 1992, 1993, 1991, '1969', 1989, 1990,\n",
       "       1988, 1987, '1968', 1986, 1985, 1984, 2004, '1965', '1966', '1967',\n",
       "       1983, 1982, 0, '1964', 1981, '1960', '1963', '1961', '1962',\n",
       "       '1959', 1978, 1980, '1958', '1957', 1979, '1956', 1977, '1955',\n",
       "       '1953', 1976, 1975, '1954', '2005', 1973, 1974, '1951', '1940',\n",
       "       '1952', '1920', '1950', 1970, 1972, '1911', 1971, '1947', '1942',\n",
       "       1966, '1946', '1930', '1923', '1941', '1949', '1948', '1939',\n",
       "       '1945', 1969, 1964, '1936', '1943', '2030', '1938', 1967, '1929',\n",
       "       '1901', '1937', '1932', 1968, '1944', '1933', 1951, '2006', '1935',\n",
       "       '1900', 1963, '1931', 1961, 1960, '2020', 1959, 1901, 2005, '1902',\n",
       "       '2050', '2011', '1922', '1927', '1924', '1909', '1921', '1928',\n",
       "       '1925', '2010', '1926', 1930, 1943, 1949, 1965, '1904', '2037',\n",
       "       1946, 1952, 1953, 1956, 1950, 1954, 1920, 1940, 1957, 1958, '1914',\n",
       "       '1934', '2024', '1897', '1919', '1378', '2008', '2012', '2021',\n",
       "       '1806', '1906', '1908', 1962, '1917', '2026', '2038', 1955, '1910',\n",
       "       '1376', 1929], dtype=object)"
      ]
     },
     "execution_count": 16,
     "metadata": {},
     "output_type": "execute_result"
    }
   ],
   "source": [
    "books[\"year_of_publication\"].value_counts().index.values"
   ]
  },
  {
   "cell_type": "code",
   "execution_count": 17,
   "id": "9c7d248e-1666-4d2a-ae29-b2f8616efddb",
   "metadata": {},
   "outputs": [
    {
     "data": {
      "text/plain": [
       "(271353,)"
      ]
     },
     "execution_count": 17,
     "metadata": {},
     "output_type": "execute_result"
    }
   ],
   "source": [
    "books[\"year_of_publication\"].shape"
   ]
  },
  {
   "cell_type": "code",
   "execution_count": 18,
   "id": "5c5b3360-a70c-42e0-841c-a7c6704e9dd6",
   "metadata": {},
   "outputs": [],
   "source": [
    "books[\"year_of_publication\"] = books[\"year_of_publication\"].astype(int)\n",
    "\n",
    "books[\"publication_date\"] = pd.to_datetime(books[\"year_of_publication\"], format='%Y', errors = 'coerce')\n",
    "\n",
    "books.drop(columns=['year_of_publication'], inplace= True)\n",
    "\n",
    "books = pd.DataFrame(books)"
   ]
  },
  {
   "cell_type": "code",
   "execution_count": 19,
   "id": "8353ed97-5258-46a7-95b7-806396b4d965",
   "metadata": {},
   "outputs": [
    {
     "data": {
      "text/html": [
       "<div>\n",
       "<style scoped>\n",
       "    .dataframe tbody tr th:only-of-type {\n",
       "        vertical-align: middle;\n",
       "    }\n",
       "\n",
       "    .dataframe tbody tr th {\n",
       "        vertical-align: top;\n",
       "    }\n",
       "\n",
       "    .dataframe thead th {\n",
       "        text-align: right;\n",
       "    }\n",
       "</style>\n",
       "<table border=\"1\" class=\"dataframe\">\n",
       "  <thead>\n",
       "    <tr style=\"text-align: right;\">\n",
       "      <th></th>\n",
       "      <th>isbn</th>\n",
       "      <th>book_title</th>\n",
       "      <th>book_author</th>\n",
       "      <th>publisher</th>\n",
       "      <th>publication_date</th>\n",
       "    </tr>\n",
       "  </thead>\n",
       "  <tbody>\n",
       "    <tr>\n",
       "      <th>0</th>\n",
       "      <td>195153448</td>\n",
       "      <td>Classical Mythology</td>\n",
       "      <td>Mark P. O. Morford</td>\n",
       "      <td>Oxford University Press</td>\n",
       "      <td>2002-01-01</td>\n",
       "    </tr>\n",
       "    <tr>\n",
       "      <th>1</th>\n",
       "      <td>2005018</td>\n",
       "      <td>Clara Callan</td>\n",
       "      <td>Richard Bruce Wright</td>\n",
       "      <td>HarperFlamingo Canada</td>\n",
       "      <td>2001-01-01</td>\n",
       "    </tr>\n",
       "    <tr>\n",
       "      <th>2</th>\n",
       "      <td>60973129</td>\n",
       "      <td>Decision in Normandy</td>\n",
       "      <td>Carlo D'Este</td>\n",
       "      <td>HarperPerennial</td>\n",
       "      <td>1991-01-01</td>\n",
       "    </tr>\n",
       "    <tr>\n",
       "      <th>3</th>\n",
       "      <td>374157065</td>\n",
       "      <td>Flu: The Story of the Great Influenza Pandemic...</td>\n",
       "      <td>Gina Bari Kolata</td>\n",
       "      <td>Farrar Straus Giroux</td>\n",
       "      <td>1999-01-01</td>\n",
       "    </tr>\n",
       "    <tr>\n",
       "      <th>4</th>\n",
       "      <td>393045218</td>\n",
       "      <td>The Mummies of Urumchi</td>\n",
       "      <td>E. J. W. Barber</td>\n",
       "      <td>W. W. Norton &amp;amp; Company</td>\n",
       "      <td>1999-01-01</td>\n",
       "    </tr>\n",
       "    <tr>\n",
       "      <th>...</th>\n",
       "      <td>...</td>\n",
       "      <td>...</td>\n",
       "      <td>...</td>\n",
       "      <td>...</td>\n",
       "      <td>...</td>\n",
       "    </tr>\n",
       "    <tr>\n",
       "      <th>271374</th>\n",
       "      <td>440400988</td>\n",
       "      <td>There's a Bat in Bunk Five</td>\n",
       "      <td>Paula Danziger</td>\n",
       "      <td>Random House Childrens Pub (Mm)</td>\n",
       "      <td>1988-01-01</td>\n",
       "    </tr>\n",
       "    <tr>\n",
       "      <th>271375</th>\n",
       "      <td>525447644</td>\n",
       "      <td>From One to One Hundred</td>\n",
       "      <td>Teri Sloat</td>\n",
       "      <td>Dutton Books</td>\n",
       "      <td>1991-01-01</td>\n",
       "    </tr>\n",
       "    <tr>\n",
       "      <th>271376</th>\n",
       "      <td>006008667X</td>\n",
       "      <td>Lily Dale : The True Story of the Town that Ta...</td>\n",
       "      <td>Christine Wicker</td>\n",
       "      <td>HarperSanFrancisco</td>\n",
       "      <td>2004-01-01</td>\n",
       "    </tr>\n",
       "    <tr>\n",
       "      <th>271377</th>\n",
       "      <td>192126040</td>\n",
       "      <td>Republic (World's Classics)</td>\n",
       "      <td>Plato</td>\n",
       "      <td>Oxford University Press</td>\n",
       "      <td>1996-01-01</td>\n",
       "    </tr>\n",
       "    <tr>\n",
       "      <th>271378</th>\n",
       "      <td>767409752</td>\n",
       "      <td>A Guided Tour of Rene Descartes' Meditations o...</td>\n",
       "      <td>Christopher  Biffle</td>\n",
       "      <td>McGraw-Hill Humanities/Social Sciences/Languages</td>\n",
       "      <td>2000-01-01</td>\n",
       "    </tr>\n",
       "  </tbody>\n",
       "</table>\n",
       "<p>271353 rows × 5 columns</p>\n",
       "</div>"
      ],
      "text/plain": [
       "              isbn                                         book_title  \\\n",
       "0        195153448                                Classical Mythology   \n",
       "1          2005018                                       Clara Callan   \n",
       "2         60973129                               Decision in Normandy   \n",
       "3        374157065  Flu: The Story of the Great Influenza Pandemic...   \n",
       "4        393045218                             The Mummies of Urumchi   \n",
       "...            ...                                                ...   \n",
       "271374   440400988                         There's a Bat in Bunk Five   \n",
       "271375   525447644                            From One to One Hundred   \n",
       "271376  006008667X  Lily Dale : The True Story of the Town that Ta...   \n",
       "271377   192126040                        Republic (World's Classics)   \n",
       "271378   767409752  A Guided Tour of Rene Descartes' Meditations o...   \n",
       "\n",
       "                 book_author  \\\n",
       "0         Mark P. O. Morford   \n",
       "1       Richard Bruce Wright   \n",
       "2               Carlo D'Este   \n",
       "3           Gina Bari Kolata   \n",
       "4            E. J. W. Barber   \n",
       "...                      ...   \n",
       "271374        Paula Danziger   \n",
       "271375            Teri Sloat   \n",
       "271376      Christine Wicker   \n",
       "271377                 Plato   \n",
       "271378   Christopher  Biffle   \n",
       "\n",
       "                                               publisher publication_date  \n",
       "0                                Oxford University Press       2002-01-01  \n",
       "1                                  HarperFlamingo Canada       2001-01-01  \n",
       "2                                        HarperPerennial       1991-01-01  \n",
       "3                                   Farrar Straus Giroux       1999-01-01  \n",
       "4                             W. W. Norton &amp; Company       1999-01-01  \n",
       "...                                                  ...              ...  \n",
       "271374                   Random House Childrens Pub (Mm)       1988-01-01  \n",
       "271375                                      Dutton Books       1991-01-01  \n",
       "271376                                HarperSanFrancisco       2004-01-01  \n",
       "271377                           Oxford University Press       1996-01-01  \n",
       "271378  McGraw-Hill Humanities/Social Sciences/Languages       2000-01-01  \n",
       "\n",
       "[271353 rows x 5 columns]"
      ]
     },
     "execution_count": 19,
     "metadata": {},
     "output_type": "execute_result"
    }
   ],
   "source": [
    "books"
   ]
  },
  {
   "cell_type": "code",
   "execution_count": 20,
   "id": "fbdcc08d-a7d3-4dd6-abbf-27f1d998fd72",
   "metadata": {},
   "outputs": [],
   "source": [
    "books[\"Year_of_publication\"] = books[\"publication_date\"].dt.year"
   ]
  },
  {
   "cell_type": "code",
   "execution_count": 21,
   "id": "9a5d24ba-81a2-423e-9795-d8b826cfabee",
   "metadata": {},
   "outputs": [
    {
     "data": {
      "text/html": [
       "<div>\n",
       "<style scoped>\n",
       "    .dataframe tbody tr th:only-of-type {\n",
       "        vertical-align: middle;\n",
       "    }\n",
       "\n",
       "    .dataframe tbody tr th {\n",
       "        vertical-align: top;\n",
       "    }\n",
       "\n",
       "    .dataframe thead th {\n",
       "        text-align: right;\n",
       "    }\n",
       "</style>\n",
       "<table border=\"1\" class=\"dataframe\">\n",
       "  <thead>\n",
       "    <tr style=\"text-align: right;\">\n",
       "      <th></th>\n",
       "      <th>isbn</th>\n",
       "      <th>book_title</th>\n",
       "      <th>book_author</th>\n",
       "      <th>publisher</th>\n",
       "      <th>publication_date</th>\n",
       "      <th>Year_of_publication</th>\n",
       "    </tr>\n",
       "  </thead>\n",
       "  <tbody>\n",
       "    <tr>\n",
       "      <th>0</th>\n",
       "      <td>195153448</td>\n",
       "      <td>Classical Mythology</td>\n",
       "      <td>Mark P. O. Morford</td>\n",
       "      <td>Oxford University Press</td>\n",
       "      <td>2002-01-01</td>\n",
       "      <td>2002.0</td>\n",
       "    </tr>\n",
       "    <tr>\n",
       "      <th>1</th>\n",
       "      <td>2005018</td>\n",
       "      <td>Clara Callan</td>\n",
       "      <td>Richard Bruce Wright</td>\n",
       "      <td>HarperFlamingo Canada</td>\n",
       "      <td>2001-01-01</td>\n",
       "      <td>2001.0</td>\n",
       "    </tr>\n",
       "    <tr>\n",
       "      <th>2</th>\n",
       "      <td>60973129</td>\n",
       "      <td>Decision in Normandy</td>\n",
       "      <td>Carlo D'Este</td>\n",
       "      <td>HarperPerennial</td>\n",
       "      <td>1991-01-01</td>\n",
       "      <td>1991.0</td>\n",
       "    </tr>\n",
       "    <tr>\n",
       "      <th>3</th>\n",
       "      <td>374157065</td>\n",
       "      <td>Flu: The Story of the Great Influenza Pandemic...</td>\n",
       "      <td>Gina Bari Kolata</td>\n",
       "      <td>Farrar Straus Giroux</td>\n",
       "      <td>1999-01-01</td>\n",
       "      <td>1999.0</td>\n",
       "    </tr>\n",
       "    <tr>\n",
       "      <th>4</th>\n",
       "      <td>393045218</td>\n",
       "      <td>The Mummies of Urumchi</td>\n",
       "      <td>E. J. W. Barber</td>\n",
       "      <td>W. W. Norton &amp;amp; Company</td>\n",
       "      <td>1999-01-01</td>\n",
       "      <td>1999.0</td>\n",
       "    </tr>\n",
       "    <tr>\n",
       "      <th>...</th>\n",
       "      <td>...</td>\n",
       "      <td>...</td>\n",
       "      <td>...</td>\n",
       "      <td>...</td>\n",
       "      <td>...</td>\n",
       "      <td>...</td>\n",
       "    </tr>\n",
       "    <tr>\n",
       "      <th>271374</th>\n",
       "      <td>440400988</td>\n",
       "      <td>There's a Bat in Bunk Five</td>\n",
       "      <td>Paula Danziger</td>\n",
       "      <td>Random House Childrens Pub (Mm)</td>\n",
       "      <td>1988-01-01</td>\n",
       "      <td>1988.0</td>\n",
       "    </tr>\n",
       "    <tr>\n",
       "      <th>271375</th>\n",
       "      <td>525447644</td>\n",
       "      <td>From One to One Hundred</td>\n",
       "      <td>Teri Sloat</td>\n",
       "      <td>Dutton Books</td>\n",
       "      <td>1991-01-01</td>\n",
       "      <td>1991.0</td>\n",
       "    </tr>\n",
       "    <tr>\n",
       "      <th>271376</th>\n",
       "      <td>006008667X</td>\n",
       "      <td>Lily Dale : The True Story of the Town that Ta...</td>\n",
       "      <td>Christine Wicker</td>\n",
       "      <td>HarperSanFrancisco</td>\n",
       "      <td>2004-01-01</td>\n",
       "      <td>2004.0</td>\n",
       "    </tr>\n",
       "    <tr>\n",
       "      <th>271377</th>\n",
       "      <td>192126040</td>\n",
       "      <td>Republic (World's Classics)</td>\n",
       "      <td>Plato</td>\n",
       "      <td>Oxford University Press</td>\n",
       "      <td>1996-01-01</td>\n",
       "      <td>1996.0</td>\n",
       "    </tr>\n",
       "    <tr>\n",
       "      <th>271378</th>\n",
       "      <td>767409752</td>\n",
       "      <td>A Guided Tour of Rene Descartes' Meditations o...</td>\n",
       "      <td>Christopher  Biffle</td>\n",
       "      <td>McGraw-Hill Humanities/Social Sciences/Languages</td>\n",
       "      <td>2000-01-01</td>\n",
       "      <td>2000.0</td>\n",
       "    </tr>\n",
       "  </tbody>\n",
       "</table>\n",
       "<p>271353 rows × 6 columns</p>\n",
       "</div>"
      ],
      "text/plain": [
       "              isbn                                         book_title  \\\n",
       "0        195153448                                Classical Mythology   \n",
       "1          2005018                                       Clara Callan   \n",
       "2         60973129                               Decision in Normandy   \n",
       "3        374157065  Flu: The Story of the Great Influenza Pandemic...   \n",
       "4        393045218                             The Mummies of Urumchi   \n",
       "...            ...                                                ...   \n",
       "271374   440400988                         There's a Bat in Bunk Five   \n",
       "271375   525447644                            From One to One Hundred   \n",
       "271376  006008667X  Lily Dale : The True Story of the Town that Ta...   \n",
       "271377   192126040                        Republic (World's Classics)   \n",
       "271378   767409752  A Guided Tour of Rene Descartes' Meditations o...   \n",
       "\n",
       "                 book_author  \\\n",
       "0         Mark P. O. Morford   \n",
       "1       Richard Bruce Wright   \n",
       "2               Carlo D'Este   \n",
       "3           Gina Bari Kolata   \n",
       "4            E. J. W. Barber   \n",
       "...                      ...   \n",
       "271374        Paula Danziger   \n",
       "271375            Teri Sloat   \n",
       "271376      Christine Wicker   \n",
       "271377                 Plato   \n",
       "271378   Christopher  Biffle   \n",
       "\n",
       "                                               publisher publication_date  \\\n",
       "0                                Oxford University Press       2002-01-01   \n",
       "1                                  HarperFlamingo Canada       2001-01-01   \n",
       "2                                        HarperPerennial       1991-01-01   \n",
       "3                                   Farrar Straus Giroux       1999-01-01   \n",
       "4                             W. W. Norton &amp; Company       1999-01-01   \n",
       "...                                                  ...              ...   \n",
       "271374                   Random House Childrens Pub (Mm)       1988-01-01   \n",
       "271375                                      Dutton Books       1991-01-01   \n",
       "271376                                HarperSanFrancisco       2004-01-01   \n",
       "271377                           Oxford University Press       1996-01-01   \n",
       "271378  McGraw-Hill Humanities/Social Sciences/Languages       2000-01-01   \n",
       "\n",
       "        Year_of_publication  \n",
       "0                    2002.0  \n",
       "1                    2001.0  \n",
       "2                    1991.0  \n",
       "3                    1999.0  \n",
       "4                    1999.0  \n",
       "...                     ...  \n",
       "271374               1988.0  \n",
       "271375               1991.0  \n",
       "271376               2004.0  \n",
       "271377               1996.0  \n",
       "271378               2000.0  \n",
       "\n",
       "[271353 rows x 6 columns]"
      ]
     },
     "execution_count": 21,
     "metadata": {},
     "output_type": "execute_result"
    }
   ],
   "source": [
    "books"
   ]
  },
  {
   "cell_type": "code",
   "execution_count": 22,
   "id": "8c26e428-56ac-4c2b-96c9-1ce9a75a87ae",
   "metadata": {},
   "outputs": [
    {
     "data": {
      "text/plain": [
       "array([2002., 1999., 2001., 2000., 1998., 1997., 2003., 1996., 1995.,\n",
       "       1994., 1993., 1992., 1991., 1990., 1989., 1988., 1987., 1986.,\n",
       "       2004., 1985., 1984., 1983., 1982., 1981., 1980., 1979., 1978.,\n",
       "       1977., 1976., 1975., 1974., 1973., 1972., 1971., 1970., 1969.,\n",
       "       1968., 1966., 1967., 1965., 1964., 1960., 1961., 1963., 1962.,\n",
       "       1959., 1958., 1957., 1956., 1955., 1953., 1954., 2005., 1951.,\n",
       "       1940., 1952., 1920., 1950., 1911., 1942., 1947., 1946., 1930.,\n",
       "       1949., 1923., 1941., 1939., 1948., 1945., 1943., 1901., 1938.,\n",
       "       2030., 1936., 1929., 1937., 1932., 1944., 1933., 1935., 2006.,\n",
       "       1900., 1931., 2020., 1927., 1921., 1922., 1909., 2011., 1925.,\n",
       "       1926., 2010., 1924., 1902., 2050., 1928., 1904., 2012., 2024.,\n",
       "       1897., 1919., 2008., 1934., 1910., 1806., 2021., 2038., 1906.,\n",
       "       1908., 1914., 1917., 2026., 2037.])"
      ]
     },
     "execution_count": 22,
     "metadata": {},
     "output_type": "execute_result"
    }
   ],
   "source": [
    "books[\"Year_of_publication\"].value_counts().index.values"
   ]
  },
  {
   "cell_type": "code",
   "execution_count": 23,
   "id": "33874581-149d-4f8f-b896-2d028caa5e6e",
   "metadata": {},
   "outputs": [],
   "source": [
    "books = books[~(books[\"Year_of_publication\"] == 2037)]\n",
    "books = books[~(books[\"Year_of_publication\"] == 2026)]\n",
    "books = books[~(books[\"Year_of_publication\"] == 2038)]\n",
    "books = books[~(books[\"Year_of_publication\"] == 2050)]\n",
    "books = books[~(books[\"Year_of_publication\"] == 2030)]\n"
   ]
  },
  {
   "cell_type": "code",
   "execution_count": 24,
   "id": "7116d16e-a030-4130-9017-7fbf4a4df9c6",
   "metadata": {},
   "outputs": [
    {
     "data": {
      "text/plain": [
       "(271341,)"
      ]
     },
     "execution_count": 24,
     "metadata": {},
     "output_type": "execute_result"
    }
   ],
   "source": [
    "books[\"Year_of_publication\"].shape"
   ]
  },
  {
   "cell_type": "code",
   "execution_count": 25,
   "id": "8084ae5e-0c0f-45a7-b72c-069d35c90585",
   "metadata": {},
   "outputs": [],
   "source": [
    "# Now Books dataset has been cleaned up"
   ]
  },
  {
   "cell_type": "code",
   "execution_count": 26,
   "id": "f08062d8-7b2d-4381-bc5c-d02305690380",
   "metadata": {},
   "outputs": [
    {
     "data": {
      "text/plain": [
       "user_id          0\n",
       "Location         1\n",
       "Age         110763\n",
       "dtype: int64"
      ]
     },
     "execution_count": 26,
     "metadata": {},
     "output_type": "execute_result"
    }
   ],
   "source": [
    "users.isnull().sum()"
   ]
  },
  {
   "cell_type": "code",
   "execution_count": 27,
   "id": "39ab7c61-dcdf-4e87-808d-dae96c5b9cbd",
   "metadata": {},
   "outputs": [],
   "source": [
    "users.dropna(inplace=True)"
   ]
  },
  {
   "cell_type": "code",
   "execution_count": 28,
   "id": "b3b7ceda-794d-4025-a4df-d9a0cf15dc3c",
   "metadata": {},
   "outputs": [
    {
     "data": {
      "text/plain": [
       "user_id     0\n",
       "Location    0\n",
       "Age         0\n",
       "dtype: int64"
      ]
     },
     "execution_count": 28,
     "metadata": {},
     "output_type": "execute_result"
    }
   ],
   "source": [
    "users.isnull().sum()"
   ]
  },
  {
   "cell_type": "code",
   "execution_count": 29,
   "id": "01a148c7-72b7-4343-a556-fb3ecb76677e",
   "metadata": {},
   "outputs": [
    {
     "data": {
      "text/plain": [
       "user_id    0\n",
       "isbn       0\n",
       "rating     0\n",
       "dtype: int64"
      ]
     },
     "execution_count": 29,
     "metadata": {},
     "output_type": "execute_result"
    }
   ],
   "source": [
    "ratings.isna().sum()"
   ]
  },
  {
   "cell_type": "code",
   "execution_count": 30,
   "id": "21f84149-517b-4209-95b5-80f808e3c234",
   "metadata": {},
   "outputs": [],
   "source": [
    "#Now all 3 datasets have null values cleaned up"
   ]
  },
  {
   "cell_type": "markdown",
   "id": "ad2040be-ebbd-4dce-899d-882b0d0b7a47",
   "metadata": {},
   "source": [
    "## Read the data where ratings are given by users"
   ]
  },
  {
   "cell_type": "code",
   "execution_count": 31,
   "id": "756c364a-c646-41fe-8678-0157b53c34bb",
   "metadata": {},
   "outputs": [],
   "source": [
    "# Ratings Dataset already read and checked for NaN values"
   ]
  },
  {
   "cell_type": "code",
   "execution_count": 32,
   "id": "fe775a6d-c1be-4abf-b13c-a0289681d955",
   "metadata": {},
   "outputs": [],
   "source": [
    "x = ratings[\"user_id\"].value_counts() > 200\n",
    "y = x[x].index"
   ]
  },
  {
   "cell_type": "code",
   "execution_count": 33,
   "id": "3af95e7d-5321-4da4-83e7-2beac1c8c0eb",
   "metadata": {},
   "outputs": [
    {
     "data": {
      "text/plain": [
       "(815,)"
      ]
     },
     "execution_count": 33,
     "metadata": {},
     "output_type": "execute_result"
    }
   ],
   "source": [
    "y.shape"
   ]
  },
  {
   "cell_type": "markdown",
   "id": "d629acc8-9eba-499f-b5d5-33e8c4835bfe",
   "metadata": {},
   "source": [
    "### The number of users who have rated more than 200 times is 815 "
   ]
  },
  {
   "cell_type": "markdown",
   "id": "b953d04b-3fc4-4edc-91a4-9f3a282fe751",
   "metadata": {},
   "source": [
    "# Popularity based recomender system\n",
    "Extract books that have received more than 50 ratings"
   ]
  },
  {
   "cell_type": "markdown",
   "id": "6ca35ec3-bb52-4985-92c9-62bb0b06ebef",
   "metadata": {},
   "source": [
    "## Merge Ratings with Books"
   ]
  },
  {
   "cell_type": "code",
   "execution_count": 34,
   "id": "1b8f9155-b00c-4b89-b8bc-6ebaea7cd805",
   "metadata": {},
   "outputs": [],
   "source": [
    "ratings_with_books = ratings.merge(books, on = \"isbn\")"
   ]
  },
  {
   "cell_type": "code",
   "execution_count": 35,
   "id": "184b1c0c-cb9e-4f25-b123-c2c44d27d9f1",
   "metadata": {},
   "outputs": [
    {
     "data": {
      "text/html": [
       "<div>\n",
       "<style scoped>\n",
       "    .dataframe tbody tr th:only-of-type {\n",
       "        vertical-align: middle;\n",
       "    }\n",
       "\n",
       "    .dataframe tbody tr th {\n",
       "        vertical-align: top;\n",
       "    }\n",
       "\n",
       "    .dataframe thead th {\n",
       "        text-align: right;\n",
       "    }\n",
       "</style>\n",
       "<table border=\"1\" class=\"dataframe\">\n",
       "  <thead>\n",
       "    <tr style=\"text-align: right;\">\n",
       "      <th></th>\n",
       "      <th>user_id</th>\n",
       "      <th>isbn</th>\n",
       "      <th>rating</th>\n",
       "      <th>book_title</th>\n",
       "      <th>book_author</th>\n",
       "      <th>publisher</th>\n",
       "      <th>publication_date</th>\n",
       "      <th>Year_of_publication</th>\n",
       "    </tr>\n",
       "  </thead>\n",
       "  <tbody>\n",
       "    <tr>\n",
       "      <th>0</th>\n",
       "      <td>276725</td>\n",
       "      <td>034545104X</td>\n",
       "      <td>0</td>\n",
       "      <td>Flesh Tones: A Novel</td>\n",
       "      <td>M. J. Rose</td>\n",
       "      <td>Ballantine Books</td>\n",
       "      <td>2002-01-01</td>\n",
       "      <td>2002.0</td>\n",
       "    </tr>\n",
       "    <tr>\n",
       "      <th>1</th>\n",
       "      <td>2313</td>\n",
       "      <td>034545104X</td>\n",
       "      <td>5</td>\n",
       "      <td>Flesh Tones: A Novel</td>\n",
       "      <td>M. J. Rose</td>\n",
       "      <td>Ballantine Books</td>\n",
       "      <td>2002-01-01</td>\n",
       "      <td>2002.0</td>\n",
       "    </tr>\n",
       "    <tr>\n",
       "      <th>2</th>\n",
       "      <td>6543</td>\n",
       "      <td>034545104X</td>\n",
       "      <td>0</td>\n",
       "      <td>Flesh Tones: A Novel</td>\n",
       "      <td>M. J. Rose</td>\n",
       "      <td>Ballantine Books</td>\n",
       "      <td>2002-01-01</td>\n",
       "      <td>2002.0</td>\n",
       "    </tr>\n",
       "    <tr>\n",
       "      <th>3</th>\n",
       "      <td>8680</td>\n",
       "      <td>034545104X</td>\n",
       "      <td>5</td>\n",
       "      <td>Flesh Tones: A Novel</td>\n",
       "      <td>M. J. Rose</td>\n",
       "      <td>Ballantine Books</td>\n",
       "      <td>2002-01-01</td>\n",
       "      <td>2002.0</td>\n",
       "    </tr>\n",
       "    <tr>\n",
       "      <th>4</th>\n",
       "      <td>10314</td>\n",
       "      <td>034545104X</td>\n",
       "      <td>9</td>\n",
       "      <td>Flesh Tones: A Novel</td>\n",
       "      <td>M. J. Rose</td>\n",
       "      <td>Ballantine Books</td>\n",
       "      <td>2002-01-01</td>\n",
       "      <td>2002.0</td>\n",
       "    </tr>\n",
       "  </tbody>\n",
       "</table>\n",
       "</div>"
      ],
      "text/plain": [
       "   user_id        isbn  rating            book_title book_author  \\\n",
       "0   276725  034545104X       0  Flesh Tones: A Novel  M. J. Rose   \n",
       "1     2313  034545104X       5  Flesh Tones: A Novel  M. J. Rose   \n",
       "2     6543  034545104X       0  Flesh Tones: A Novel  M. J. Rose   \n",
       "3     8680  034545104X       5  Flesh Tones: A Novel  M. J. Rose   \n",
       "4    10314  034545104X       9  Flesh Tones: A Novel  M. J. Rose   \n",
       "\n",
       "          publisher publication_date  Year_of_publication  \n",
       "0  Ballantine Books       2002-01-01               2002.0  \n",
       "1  Ballantine Books       2002-01-01               2002.0  \n",
       "2  Ballantine Books       2002-01-01               2002.0  \n",
       "3  Ballantine Books       2002-01-01               2002.0  \n",
       "4  Ballantine Books       2002-01-01               2002.0  "
      ]
     },
     "execution_count": 35,
     "metadata": {},
     "output_type": "execute_result"
    }
   ],
   "source": [
    "ratings_with_books.head()"
   ]
  },
  {
   "cell_type": "code",
   "execution_count": 36,
   "id": "b8c07352-744b-4875-ac69-85431b0e7a7c",
   "metadata": {},
   "outputs": [
    {
     "data": {
      "text/plain": [
       "(941053, 8)"
      ]
     },
     "execution_count": 36,
     "metadata": {},
     "output_type": "execute_result"
    }
   ],
   "source": [
    "ratings_with_books.shape"
   ]
  },
  {
   "cell_type": "code",
   "execution_count": 37,
   "id": "45e6103e-a2c5-4d41-b0a4-c8827a70cfc3",
   "metadata": {},
   "outputs": [
    {
     "data": {
      "text/html": [
       "<div>\n",
       "<style scoped>\n",
       "    .dataframe tbody tr th:only-of-type {\n",
       "        vertical-align: middle;\n",
       "    }\n",
       "\n",
       "    .dataframe tbody tr th {\n",
       "        vertical-align: top;\n",
       "    }\n",
       "\n",
       "    .dataframe thead th {\n",
       "        text-align: right;\n",
       "    }\n",
       "</style>\n",
       "<table border=\"1\" class=\"dataframe\">\n",
       "  <thead>\n",
       "    <tr style=\"text-align: right;\">\n",
       "      <th></th>\n",
       "      <th>book_title</th>\n",
       "      <th>number_of_rating</th>\n",
       "    </tr>\n",
       "  </thead>\n",
       "  <tbody>\n",
       "    <tr>\n",
       "      <th>0</th>\n",
       "      <td>A Light in the Storm: The Civil War Diary of ...</td>\n",
       "      <td>4</td>\n",
       "    </tr>\n",
       "    <tr>\n",
       "      <th>1</th>\n",
       "      <td>Always Have Popsicles</td>\n",
       "      <td>1</td>\n",
       "    </tr>\n",
       "    <tr>\n",
       "      <th>2</th>\n",
       "      <td>Apple Magic (The Collector's series)</td>\n",
       "      <td>1</td>\n",
       "    </tr>\n",
       "    <tr>\n",
       "      <th>3</th>\n",
       "      <td>Beyond IBM: Leadership Marketing and Finance ...</td>\n",
       "      <td>1</td>\n",
       "    </tr>\n",
       "    <tr>\n",
       "      <th>4</th>\n",
       "      <td>Clifford Visita El Hospital (Clifford El Gran...</td>\n",
       "      <td>1</td>\n",
       "    </tr>\n",
       "  </tbody>\n",
       "</table>\n",
       "</div>"
      ],
      "text/plain": [
       "                                          book_title  number_of_rating\n",
       "0   A Light in the Storm: The Civil War Diary of ...                 4\n",
       "1                              Always Have Popsicles                 1\n",
       "2               Apple Magic (The Collector's series)                 1\n",
       "3   Beyond IBM: Leadership Marketing and Finance ...                 1\n",
       "4   Clifford Visita El Hospital (Clifford El Gran...                 1"
      ]
     },
     "execution_count": 37,
     "metadata": {},
     "output_type": "execute_result"
    }
   ],
   "source": [
    "number_rating = ratings_with_books.groupby('book_title')['rating'].count().reset_index()\n",
    "number_rating.rename(columns= {'rating':'number_of_rating'}, inplace=True)\n",
    "number_rating.head()"
   ]
  },
  {
   "cell_type": "code",
   "execution_count": 38,
   "id": "c945e257-036a-4578-aa5a-63f5b12a5f83",
   "metadata": {},
   "outputs": [],
   "source": [
    "final_rating = ratings_with_books.merge(number_rating, on='book_title')"
   ]
  },
  {
   "cell_type": "code",
   "execution_count": 39,
   "id": "d9764a1c-340b-4d26-bf29-fc89abd08805",
   "metadata": {},
   "outputs": [],
   "source": [
    "final_rating = final_rating[final_rating['number_of_rating'] >= 50]\n",
    "final_rating.drop_duplicates(['user_id','book_title'], inplace=True)"
   ]
  },
  {
   "cell_type": "code",
   "execution_count": 40,
   "id": "4bf6cdeb-63df-4652-b7d3-d9a826c4316e",
   "metadata": {},
   "outputs": [
    {
     "data": {
      "text/html": [
       "<div>\n",
       "<style scoped>\n",
       "    .dataframe tbody tr th:only-of-type {\n",
       "        vertical-align: middle;\n",
       "    }\n",
       "\n",
       "    .dataframe tbody tr th {\n",
       "        vertical-align: top;\n",
       "    }\n",
       "\n",
       "    .dataframe thead th {\n",
       "        text-align: right;\n",
       "    }\n",
       "</style>\n",
       "<table border=\"1\" class=\"dataframe\">\n",
       "  <thead>\n",
       "    <tr style=\"text-align: right;\">\n",
       "      <th></th>\n",
       "      <th>user_id</th>\n",
       "      <th>isbn</th>\n",
       "      <th>rating</th>\n",
       "      <th>book_title</th>\n",
       "      <th>book_author</th>\n",
       "      <th>publisher</th>\n",
       "      <th>publication_date</th>\n",
       "      <th>Year_of_publication</th>\n",
       "      <th>number_of_rating</th>\n",
       "    </tr>\n",
       "  </thead>\n",
       "  <tbody>\n",
       "    <tr>\n",
       "      <th>0</th>\n",
       "      <td>276725</td>\n",
       "      <td>034545104X</td>\n",
       "      <td>0</td>\n",
       "      <td>Flesh Tones: A Novel</td>\n",
       "      <td>M. J. Rose</td>\n",
       "      <td>Ballantine Books</td>\n",
       "      <td>2002-01-01</td>\n",
       "      <td>2002.0</td>\n",
       "      <td>53</td>\n",
       "    </tr>\n",
       "    <tr>\n",
       "      <th>1</th>\n",
       "      <td>2313</td>\n",
       "      <td>034545104X</td>\n",
       "      <td>5</td>\n",
       "      <td>Flesh Tones: A Novel</td>\n",
       "      <td>M. J. Rose</td>\n",
       "      <td>Ballantine Books</td>\n",
       "      <td>2002-01-01</td>\n",
       "      <td>2002.0</td>\n",
       "      <td>53</td>\n",
       "    </tr>\n",
       "    <tr>\n",
       "      <th>2</th>\n",
       "      <td>6543</td>\n",
       "      <td>034545104X</td>\n",
       "      <td>0</td>\n",
       "      <td>Flesh Tones: A Novel</td>\n",
       "      <td>M. J. Rose</td>\n",
       "      <td>Ballantine Books</td>\n",
       "      <td>2002-01-01</td>\n",
       "      <td>2002.0</td>\n",
       "      <td>53</td>\n",
       "    </tr>\n",
       "    <tr>\n",
       "      <th>3</th>\n",
       "      <td>8680</td>\n",
       "      <td>034545104X</td>\n",
       "      <td>5</td>\n",
       "      <td>Flesh Tones: A Novel</td>\n",
       "      <td>M. J. Rose</td>\n",
       "      <td>Ballantine Books</td>\n",
       "      <td>2002-01-01</td>\n",
       "      <td>2002.0</td>\n",
       "      <td>53</td>\n",
       "    </tr>\n",
       "    <tr>\n",
       "      <th>4</th>\n",
       "      <td>10314</td>\n",
       "      <td>034545104X</td>\n",
       "      <td>9</td>\n",
       "      <td>Flesh Tones: A Novel</td>\n",
       "      <td>M. J. Rose</td>\n",
       "      <td>Ballantine Books</td>\n",
       "      <td>2002-01-01</td>\n",
       "      <td>2002.0</td>\n",
       "      <td>53</td>\n",
       "    </tr>\n",
       "  </tbody>\n",
       "</table>\n",
       "</div>"
      ],
      "text/plain": [
       "   user_id        isbn  rating            book_title book_author  \\\n",
       "0   276725  034545104X       0  Flesh Tones: A Novel  M. J. Rose   \n",
       "1     2313  034545104X       5  Flesh Tones: A Novel  M. J. Rose   \n",
       "2     6543  034545104X       0  Flesh Tones: A Novel  M. J. Rose   \n",
       "3     8680  034545104X       5  Flesh Tones: A Novel  M. J. Rose   \n",
       "4    10314  034545104X       9  Flesh Tones: A Novel  M. J. Rose   \n",
       "\n",
       "          publisher publication_date  Year_of_publication  number_of_rating  \n",
       "0  Ballantine Books       2002-01-01               2002.0                53  \n",
       "1  Ballantine Books       2002-01-01               2002.0                53  \n",
       "2  Ballantine Books       2002-01-01               2002.0                53  \n",
       "3  Ballantine Books       2002-01-01               2002.0                53  \n",
       "4  Ballantine Books       2002-01-01               2002.0                53  "
      ]
     },
     "execution_count": 40,
     "metadata": {},
     "output_type": "execute_result"
    }
   ],
   "source": [
    "final_rating.head()"
   ]
  },
  {
   "cell_type": "markdown",
   "id": "b48975f6-2ecd-4a25-b0c3-bd4898345d41",
   "metadata": {},
   "source": [
    "## Take a quick look at the number of unique users and books."
   ]
  },
  {
   "cell_type": "markdown",
   "id": "8d9d445e-db9c-4b37-829a-c0ee7d343820",
   "metadata": {},
   "source": [
    "#### Number of Unique Users"
   ]
  },
  {
   "cell_type": "code",
   "execution_count": 41,
   "id": "baab702a-08e7-417b-8bbe-0aad3aaf4cd9",
   "metadata": {},
   "outputs": [],
   "source": [
    "u_users = ratings_with_books['user_id'].nunique()"
   ]
  },
  {
   "cell_type": "code",
   "execution_count": 42,
   "id": "1e9ffbf8-351c-4416-82e5-7ffe99b572f2",
   "metadata": {},
   "outputs": [
    {
     "name": "stdout",
     "output_type": "stream",
     "text": [
      "Number of users: 83639 \n"
     ]
    }
   ],
   "source": [
    "print(\"Number of users: {} \".format(u_users))"
   ]
  },
  {
   "cell_type": "markdown",
   "id": "a9e60613-d400-4718-986e-8b5ccaa7b19e",
   "metadata": {},
   "source": [
    "## Number of Unique Books"
   ]
  },
  {
   "cell_type": "code",
   "execution_count": 43,
   "id": "e8649fb6-765f-40b6-95fe-a486187bfc74",
   "metadata": {},
   "outputs": [],
   "source": [
    "u_books = ratings_with_books['book_title'].nunique()"
   ]
  },
  {
   "cell_type": "code",
   "execution_count": 44,
   "id": "5245a165-c7b1-452f-95f2-debafea590bc",
   "metadata": {},
   "outputs": [
    {
     "name": "stdout",
     "output_type": "stream",
     "text": [
      "Number of books: 230203\n"
     ]
    }
   ],
   "source": [
    "print(\"Number of books: {}\".format(u_books))"
   ]
  },
  {
   "cell_type": "markdown",
   "id": "a303a056-fe9f-46e4-a1a5-79eb041ef02d",
   "metadata": {},
   "source": [
    "## Convert ISBN variables to numeric numbers in the correct order"
   ]
  },
  {
   "cell_type": "code",
   "execution_count": 45,
   "id": "5d66b8f5-d5e6-4cbb-9ba3-076c8c4ea77c",
   "metadata": {},
   "outputs": [],
   "source": [
    "# convert ISBN into the numeric number.\n",
    "list_isbn = ratings_with_books.isbn.unique()"
   ]
  },
  {
   "cell_type": "code",
   "execution_count": 46,
   "id": "d4fd9a92-3803-456e-9c4c-8b3e26af8f95",
   "metadata": {},
   "outputs": [
    {
     "data": {
      "text/plain": [
       "array(['034545104X', '155061224', '446520802', ..., '048623715X',\n",
       "       '486256588', '515069434'], dtype=object)"
      ]
     },
     "execution_count": 46,
     "metadata": {},
     "output_type": "execute_result"
    }
   ],
   "source": [
    "list_isbn"
   ]
  },
  {
   "cell_type": "code",
   "execution_count": 47,
   "id": "4b86e253-05ad-4558-91ed-a87b26597ff9",
   "metadata": {},
   "outputs": [
    {
     "name": "stdout",
     "output_type": "stream",
     "text": [
      "length of ISBN list:  257795\n"
     ]
    }
   ],
   "source": [
    "print(\"length of ISBN list: \", len(list_isbn))"
   ]
  },
  {
   "cell_type": "code",
   "execution_count": 48,
   "id": "5a88ebe0-c0a1-4ed9-bf4a-1d68a5e911ee",
   "metadata": {},
   "outputs": [],
   "source": [
    "def isbn_numeric(isbn):\n",
    "    itemindex = np.where(list_isbn==isbn)\n",
    "    return itemindex[0][0]"
   ]
  },
  {
   "cell_type": "markdown",
   "id": "4c8de5c4-eec7-4f8f-a2fb-6a31d0135d8b",
   "metadata": {},
   "source": [
    "## Convert user_id variables to numeric numbers in the correct order"
   ]
  },
  {
   "cell_type": "code",
   "execution_count": 49,
   "id": "4d75a2e8-ba50-4c94-a4f8-a476f3c62b7e",
   "metadata": {},
   "outputs": [],
   "source": [
    "# convert user_id into the numeric number.\n",
    "list_userid = ratings_with_books.user_id.unique()"
   ]
  },
  {
   "cell_type": "code",
   "execution_count": 50,
   "id": "c31d65ee-ca3b-4ff3-b34c-9cdc81150756",
   "metadata": {},
   "outputs": [
    {
     "data": {
      "text/plain": [
       "array([276725,   2313,   6543, ..., 250692, 250707, 250757], dtype=int64)"
      ]
     },
     "execution_count": 50,
     "metadata": {},
     "output_type": "execute_result"
    }
   ],
   "source": [
    "list_userid"
   ]
  },
  {
   "cell_type": "code",
   "execution_count": 51,
   "id": "df1a9b9e-f652-4dc9-a397-75d43ad186cb",
   "metadata": {},
   "outputs": [
    {
     "name": "stdout",
     "output_type": "stream",
     "text": [
      "length of user_id list:  83639\n"
     ]
    }
   ],
   "source": [
    "print(\"length of user_id list: \", len(list_userid))"
   ]
  },
  {
   "cell_type": "code",
   "execution_count": 52,
   "id": "f2fb5a43-aeb2-45c9-b1a2-c08f115c140f",
   "metadata": {},
   "outputs": [],
   "source": [
    "def userid_numeric(user_id):\n",
    "    itemindex = np.where(list_userid==user_id)\n",
    "    return itemindex[0][0]"
   ]
  },
  {
   "cell_type": "markdown",
   "id": "07d25c6f-c416-44c8-92bd-9d307a7081a6",
   "metadata": {},
   "source": [
    "## Convert both user_id and ISBN to the ordered list, i.e., from 0...n-1"
   ]
  },
  {
   "cell_type": "code",
   "execution_count": 53,
   "id": "ac10a65f-3f42-4d33-ab61-211df0a13c42",
   "metadata": {},
   "outputs": [],
   "source": [
    "ratings_with_books['user_id_order'] = ratings_with_books['user_id'].apply(userid_numeric)"
   ]
  },
  {
   "cell_type": "code",
   "execution_count": 54,
   "id": "dc0b9319-be7b-410c-aa53-1e31e525d5bd",
   "metadata": {},
   "outputs": [],
   "source": [
    "ratings_with_books['isbn_order'] = ratings_with_books['isbn'].apply(isbn_numeric)"
   ]
  },
  {
   "cell_type": "code",
   "execution_count": 55,
   "id": "e5071744-f92e-47bb-85d2-a212b9f339cb",
   "metadata": {},
   "outputs": [
    {
     "data": {
      "text/html": [
       "<div>\n",
       "<style scoped>\n",
       "    .dataframe tbody tr th:only-of-type {\n",
       "        vertical-align: middle;\n",
       "    }\n",
       "\n",
       "    .dataframe tbody tr th {\n",
       "        vertical-align: top;\n",
       "    }\n",
       "\n",
       "    .dataframe thead th {\n",
       "        text-align: right;\n",
       "    }\n",
       "</style>\n",
       "<table border=\"1\" class=\"dataframe\">\n",
       "  <thead>\n",
       "    <tr style=\"text-align: right;\">\n",
       "      <th></th>\n",
       "      <th>user_id</th>\n",
       "      <th>isbn</th>\n",
       "      <th>rating</th>\n",
       "      <th>book_title</th>\n",
       "      <th>book_author</th>\n",
       "      <th>publisher</th>\n",
       "      <th>publication_date</th>\n",
       "      <th>Year_of_publication</th>\n",
       "      <th>user_id_order</th>\n",
       "      <th>isbn_order</th>\n",
       "    </tr>\n",
       "  </thead>\n",
       "  <tbody>\n",
       "    <tr>\n",
       "      <th>0</th>\n",
       "      <td>276725</td>\n",
       "      <td>034545104X</td>\n",
       "      <td>0</td>\n",
       "      <td>Flesh Tones: A Novel</td>\n",
       "      <td>M. J. Rose</td>\n",
       "      <td>Ballantine Books</td>\n",
       "      <td>2002-01-01</td>\n",
       "      <td>2002.0</td>\n",
       "      <td>0</td>\n",
       "      <td>0</td>\n",
       "    </tr>\n",
       "    <tr>\n",
       "      <th>1</th>\n",
       "      <td>2313</td>\n",
       "      <td>034545104X</td>\n",
       "      <td>5</td>\n",
       "      <td>Flesh Tones: A Novel</td>\n",
       "      <td>M. J. Rose</td>\n",
       "      <td>Ballantine Books</td>\n",
       "      <td>2002-01-01</td>\n",
       "      <td>2002.0</td>\n",
       "      <td>1</td>\n",
       "      <td>0</td>\n",
       "    </tr>\n",
       "    <tr>\n",
       "      <th>2</th>\n",
       "      <td>6543</td>\n",
       "      <td>034545104X</td>\n",
       "      <td>0</td>\n",
       "      <td>Flesh Tones: A Novel</td>\n",
       "      <td>M. J. Rose</td>\n",
       "      <td>Ballantine Books</td>\n",
       "      <td>2002-01-01</td>\n",
       "      <td>2002.0</td>\n",
       "      <td>2</td>\n",
       "      <td>0</td>\n",
       "    </tr>\n",
       "    <tr>\n",
       "      <th>3</th>\n",
       "      <td>8680</td>\n",
       "      <td>034545104X</td>\n",
       "      <td>5</td>\n",
       "      <td>Flesh Tones: A Novel</td>\n",
       "      <td>M. J. Rose</td>\n",
       "      <td>Ballantine Books</td>\n",
       "      <td>2002-01-01</td>\n",
       "      <td>2002.0</td>\n",
       "      <td>3</td>\n",
       "      <td>0</td>\n",
       "    </tr>\n",
       "    <tr>\n",
       "      <th>4</th>\n",
       "      <td>10314</td>\n",
       "      <td>034545104X</td>\n",
       "      <td>9</td>\n",
       "      <td>Flesh Tones: A Novel</td>\n",
       "      <td>M. J. Rose</td>\n",
       "      <td>Ballantine Books</td>\n",
       "      <td>2002-01-01</td>\n",
       "      <td>2002.0</td>\n",
       "      <td>4</td>\n",
       "      <td>0</td>\n",
       "    </tr>\n",
       "  </tbody>\n",
       "</table>\n",
       "</div>"
      ],
      "text/plain": [
       "   user_id        isbn  rating            book_title book_author  \\\n",
       "0   276725  034545104X       0  Flesh Tones: A Novel  M. J. Rose   \n",
       "1     2313  034545104X       5  Flesh Tones: A Novel  M. J. Rose   \n",
       "2     6543  034545104X       0  Flesh Tones: A Novel  M. J. Rose   \n",
       "3     8680  034545104X       5  Flesh Tones: A Novel  M. J. Rose   \n",
       "4    10314  034545104X       9  Flesh Tones: A Novel  M. J. Rose   \n",
       "\n",
       "          publisher publication_date  Year_of_publication  user_id_order  \\\n",
       "0  Ballantine Books       2002-01-01               2002.0              0   \n",
       "1  Ballantine Books       2002-01-01               2002.0              1   \n",
       "2  Ballantine Books       2002-01-01               2002.0              2   \n",
       "3  Ballantine Books       2002-01-01               2002.0              3   \n",
       "4  Ballantine Books       2002-01-01               2002.0              4   \n",
       "\n",
       "   isbn_order  \n",
       "0           0  \n",
       "1           0  \n",
       "2           0  \n",
       "3           0  \n",
       "4           0  "
      ]
     },
     "execution_count": 55,
     "metadata": {},
     "output_type": "execute_result"
    }
   ],
   "source": [
    "ratings_with_books.head()"
   ]
  },
  {
   "cell_type": "markdown",
   "id": "445ea325-6e4a-4775-b301-8e456ebef91a",
   "metadata": {},
   "source": [
    "## Re-index the columns to build a matrix"
   ]
  },
  {
   "cell_type": "code",
   "execution_count": 56,
   "id": "aba1be08-00a6-49ef-82df-f790c977ea8b",
   "metadata": {},
   "outputs": [
    {
     "name": "stdout",
     "output_type": "stream",
     "text": [
      "<class 'pandas.core.frame.DataFrame'>\n",
      "RangeIndex: 941053 entries, 0 to 941052\n",
      "Data columns (total 10 columns):\n",
      " #   Column               Non-Null Count   Dtype         \n",
      "---  ------               --------------   -----         \n",
      " 0   user_id              941053 non-null  int64         \n",
      " 1   isbn                 941053 non-null  object        \n",
      " 2   rating               941053 non-null  int64         \n",
      " 3   book_title           941053 non-null  object        \n",
      " 4   book_author          941053 non-null  object        \n",
      " 5   publisher            941053 non-null  object        \n",
      " 6   publication_date     928273 non-null  datetime64[ns]\n",
      " 7   Year_of_publication  928273 non-null  float64       \n",
      " 8   user_id_order        941053 non-null  int64         \n",
      " 9   isbn_order           941053 non-null  int64         \n",
      "dtypes: datetime64[ns](1), float64(1), int64(4), object(4)\n",
      "memory usage: 71.8+ MB\n"
     ]
    }
   ],
   "source": [
    "ratings_with_books.info()"
   ]
  },
  {
   "cell_type": "code",
   "execution_count": 57,
   "id": "649a79f8-77af-4bb7-8a9b-eb533e70ac69",
   "metadata": {},
   "outputs": [],
   "source": [
    "reorder_col = ['user_id_order', 'isbn_order', 'rating', 'book_title', 'book_author', 'year_of_publication', 'publisher', \n",
    "               'user_id', 'isbn']\n",
    "ratings_with_books = ratings_with_books.reindex(columns=reorder_col)"
   ]
  },
  {
   "cell_type": "code",
   "execution_count": 58,
   "id": "e2ac0f7b-932a-4b7d-8bdc-8aec7c3aacb8",
   "metadata": {},
   "outputs": [
    {
     "name": "stdout",
     "output_type": "stream",
     "text": [
      "<class 'pandas.core.frame.DataFrame'>\n",
      "RangeIndex: 941053 entries, 0 to 941052\n",
      "Data columns (total 9 columns):\n",
      " #   Column               Non-Null Count   Dtype  \n",
      "---  ------               --------------   -----  \n",
      " 0   user_id_order        941053 non-null  int64  \n",
      " 1   isbn_order           941053 non-null  int64  \n",
      " 2   rating               941053 non-null  int64  \n",
      " 3   book_title           941053 non-null  object \n",
      " 4   book_author          941053 non-null  object \n",
      " 5   year_of_publication  0 non-null       float64\n",
      " 6   publisher            941053 non-null  object \n",
      " 7   user_id              941053 non-null  int64  \n",
      " 8   isbn                 941053 non-null  object \n",
      "dtypes: float64(1), int64(4), object(4)\n",
      "memory usage: 64.6+ MB\n"
     ]
    }
   ],
   "source": [
    "ratings_with_books.info()"
   ]
  },
  {
   "cell_type": "code",
   "execution_count": 59,
   "id": "5e2b98a0-1355-435f-9df5-d86064b63687",
   "metadata": {},
   "outputs": [
    {
     "data": {
      "text/html": [
       "<div>\n",
       "<style scoped>\n",
       "    .dataframe tbody tr th:only-of-type {\n",
       "        vertical-align: middle;\n",
       "    }\n",
       "\n",
       "    .dataframe tbody tr th {\n",
       "        vertical-align: top;\n",
       "    }\n",
       "\n",
       "    .dataframe thead th {\n",
       "        text-align: right;\n",
       "    }\n",
       "</style>\n",
       "<table border=\"1\" class=\"dataframe\">\n",
       "  <thead>\n",
       "    <tr style=\"text-align: right;\">\n",
       "      <th></th>\n",
       "      <th>user_id_order</th>\n",
       "      <th>isbn_order</th>\n",
       "      <th>rating</th>\n",
       "      <th>book_title</th>\n",
       "      <th>book_author</th>\n",
       "      <th>year_of_publication</th>\n",
       "      <th>publisher</th>\n",
       "      <th>user_id</th>\n",
       "      <th>isbn</th>\n",
       "    </tr>\n",
       "  </thead>\n",
       "  <tbody>\n",
       "    <tr>\n",
       "      <th>0</th>\n",
       "      <td>0</td>\n",
       "      <td>0</td>\n",
       "      <td>0</td>\n",
       "      <td>Flesh Tones: A Novel</td>\n",
       "      <td>M. J. Rose</td>\n",
       "      <td>NaN</td>\n",
       "      <td>Ballantine Books</td>\n",
       "      <td>276725</td>\n",
       "      <td>034545104X</td>\n",
       "    </tr>\n",
       "    <tr>\n",
       "      <th>1</th>\n",
       "      <td>1</td>\n",
       "      <td>0</td>\n",
       "      <td>5</td>\n",
       "      <td>Flesh Tones: A Novel</td>\n",
       "      <td>M. J. Rose</td>\n",
       "      <td>NaN</td>\n",
       "      <td>Ballantine Books</td>\n",
       "      <td>2313</td>\n",
       "      <td>034545104X</td>\n",
       "    </tr>\n",
       "    <tr>\n",
       "      <th>2</th>\n",
       "      <td>2</td>\n",
       "      <td>0</td>\n",
       "      <td>0</td>\n",
       "      <td>Flesh Tones: A Novel</td>\n",
       "      <td>M. J. Rose</td>\n",
       "      <td>NaN</td>\n",
       "      <td>Ballantine Books</td>\n",
       "      <td>6543</td>\n",
       "      <td>034545104X</td>\n",
       "    </tr>\n",
       "    <tr>\n",
       "      <th>3</th>\n",
       "      <td>3</td>\n",
       "      <td>0</td>\n",
       "      <td>5</td>\n",
       "      <td>Flesh Tones: A Novel</td>\n",
       "      <td>M. J. Rose</td>\n",
       "      <td>NaN</td>\n",
       "      <td>Ballantine Books</td>\n",
       "      <td>8680</td>\n",
       "      <td>034545104X</td>\n",
       "    </tr>\n",
       "    <tr>\n",
       "      <th>4</th>\n",
       "      <td>4</td>\n",
       "      <td>0</td>\n",
       "      <td>9</td>\n",
       "      <td>Flesh Tones: A Novel</td>\n",
       "      <td>M. J. Rose</td>\n",
       "      <td>NaN</td>\n",
       "      <td>Ballantine Books</td>\n",
       "      <td>10314</td>\n",
       "      <td>034545104X</td>\n",
       "    </tr>\n",
       "  </tbody>\n",
       "</table>\n",
       "</div>"
      ],
      "text/plain": [
       "   user_id_order  isbn_order  rating            book_title book_author  \\\n",
       "0              0           0       0  Flesh Tones: A Novel  M. J. Rose   \n",
       "1              1           0       5  Flesh Tones: A Novel  M. J. Rose   \n",
       "2              2           0       0  Flesh Tones: A Novel  M. J. Rose   \n",
       "3              3           0       5  Flesh Tones: A Novel  M. J. Rose   \n",
       "4              4           0       9  Flesh Tones: A Novel  M. J. Rose   \n",
       "\n",
       "   year_of_publication         publisher  user_id        isbn  \n",
       "0                  NaN  Ballantine Books   276725  034545104X  \n",
       "1                  NaN  Ballantine Books     2313  034545104X  \n",
       "2                  NaN  Ballantine Books     6543  034545104X  \n",
       "3                  NaN  Ballantine Books     8680  034545104X  \n",
       "4                  NaN  Ballantine Books    10314  034545104X  "
      ]
     },
     "execution_count": 59,
     "metadata": {},
     "output_type": "execute_result"
    }
   ],
   "source": [
    "ratings_with_books.head()"
   ]
  },
  {
   "cell_type": "markdown",
   "id": "28b99f0f-8619-4de3-9b51-68b63a9915b1",
   "metadata": {},
   "source": [
    "## Split your data into two sets (training and testing)"
   ]
  },
  {
   "cell_type": "markdown",
   "id": "dabb9257-717c-4220-b876-ec58a5a5baa4",
   "metadata": {},
   "source": [
    "#### Import Libraries needed"
   ]
  },
  {
   "cell_type": "code",
   "execution_count": 60,
   "id": "7f579781-202e-40d0-a1d3-651e0d989521",
   "metadata": {},
   "outputs": [],
   "source": [
    "from sklearn.model_selection import train_test_split"
   ]
  },
  {
   "cell_type": "code",
   "execution_count": 61,
   "id": "820333db-c354-49c8-bbd8-028295c23598",
   "metadata": {},
   "outputs": [],
   "source": [
    "train, test = train_test_split(ratings_with_books, test_size = 0.30, random_state = 10)"
   ]
  },
  {
   "cell_type": "code",
   "execution_count": 62,
   "id": "7b0990ba-443e-47f4-ba71-46cc8bcab9b6",
   "metadata": {},
   "outputs": [
    {
     "data": {
      "text/plain": [
       "(658737, 9)"
      ]
     },
     "execution_count": 62,
     "metadata": {},
     "output_type": "execute_result"
    }
   ],
   "source": [
    "train.shape"
   ]
  },
  {
   "cell_type": "code",
   "execution_count": 63,
   "id": "c4b15cf7-f6a8-4759-91b7-c53953fe653e",
   "metadata": {},
   "outputs": [
    {
     "data": {
      "text/html": [
       "<div>\n",
       "<style scoped>\n",
       "    .dataframe tbody tr th:only-of-type {\n",
       "        vertical-align: middle;\n",
       "    }\n",
       "\n",
       "    .dataframe tbody tr th {\n",
       "        vertical-align: top;\n",
       "    }\n",
       "\n",
       "    .dataframe thead th {\n",
       "        text-align: right;\n",
       "    }\n",
       "</style>\n",
       "<table border=\"1\" class=\"dataframe\">\n",
       "  <thead>\n",
       "    <tr style=\"text-align: right;\">\n",
       "      <th></th>\n",
       "      <th>user_id_order</th>\n",
       "      <th>isbn_order</th>\n",
       "      <th>rating</th>\n",
       "      <th>book_title</th>\n",
       "      <th>book_author</th>\n",
       "      <th>year_of_publication</th>\n",
       "      <th>publisher</th>\n",
       "      <th>user_id</th>\n",
       "      <th>isbn</th>\n",
       "    </tr>\n",
       "  </thead>\n",
       "  <tbody>\n",
       "    <tr>\n",
       "      <th>232863</th>\n",
       "      <td>148</td>\n",
       "      <td>11310</td>\n",
       "      <td>0</td>\n",
       "      <td>Cry, the Beloved Country (Oprah's Book Club)</td>\n",
       "      <td>Alan Paton</td>\n",
       "      <td>NaN</td>\n",
       "      <td>Scribner</td>\n",
       "      <td>238120</td>\n",
       "      <td>743262174</td>\n",
       "    </tr>\n",
       "    <tr>\n",
       "      <th>136094</th>\n",
       "      <td>5122</td>\n",
       "      <td>5347</td>\n",
       "      <td>0</td>\n",
       "      <td>The Firm</td>\n",
       "      <td>John Grisham</td>\n",
       "      <td>NaN</td>\n",
       "      <td>Bantam Dell Publishing Group</td>\n",
       "      <td>243930</td>\n",
       "      <td>044021145X</td>\n",
       "    </tr>\n",
       "    <tr>\n",
       "      <th>183415</th>\n",
       "      <td>5846</td>\n",
       "      <td>8469</td>\n",
       "      <td>0</td>\n",
       "      <td>A Widow for One Year</td>\n",
       "      <td>JOHN IRVING</td>\n",
       "      <td>NaN</td>\n",
       "      <td>Ballantine Books</td>\n",
       "      <td>63293</td>\n",
       "      <td>345424719</td>\n",
       "    </tr>\n",
       "    <tr>\n",
       "      <th>7448</th>\n",
       "      <td>4810</td>\n",
       "      <td>309</td>\n",
       "      <td>0</td>\n",
       "      <td>The Da Vinci Code</td>\n",
       "      <td>Dan Brown</td>\n",
       "      <td>NaN</td>\n",
       "      <td>Doubleday</td>\n",
       "      <td>62457</td>\n",
       "      <td>385504209</td>\n",
       "    </tr>\n",
       "    <tr>\n",
       "      <th>860983</th>\n",
       "      <td>39788</td>\n",
       "      <td>189341</td>\n",
       "      <td>0</td>\n",
       "      <td>Jane Eyre (The World's best reading)</td>\n",
       "      <td>Charlotte BrontÃ«</td>\n",
       "      <td>NaN</td>\n",
       "      <td>Reader's Digest Association</td>\n",
       "      <td>246526</td>\n",
       "      <td>895772000</td>\n",
       "    </tr>\n",
       "  </tbody>\n",
       "</table>\n",
       "</div>"
      ],
      "text/plain": [
       "        user_id_order  isbn_order  rating  \\\n",
       "232863            148       11310       0   \n",
       "136094           5122        5347       0   \n",
       "183415           5846        8469       0   \n",
       "7448             4810         309       0   \n",
       "860983          39788      189341       0   \n",
       "\n",
       "                                          book_title        book_author  \\\n",
       "232863  Cry, the Beloved Country (Oprah's Book Club)         Alan Paton   \n",
       "136094                                      The Firm       John Grisham   \n",
       "183415                          A Widow for One Year        JOHN IRVING   \n",
       "7448                               The Da Vinci Code          Dan Brown   \n",
       "860983          Jane Eyre (The World's best reading)  Charlotte BrontÃ«   \n",
       "\n",
       "        year_of_publication                     publisher  user_id        isbn  \n",
       "232863                  NaN                      Scribner   238120   743262174  \n",
       "136094                  NaN  Bantam Dell Publishing Group   243930  044021145X  \n",
       "183415                  NaN              Ballantine Books    63293   345424719  \n",
       "7448                    NaN                     Doubleday    62457   385504209  \n",
       "860983                  NaN   Reader's Digest Association   246526   895772000  "
      ]
     },
     "execution_count": 63,
     "metadata": {},
     "output_type": "execute_result"
    }
   ],
   "source": [
    "train.head()"
   ]
  },
  {
   "cell_type": "code",
   "execution_count": 64,
   "id": "fba3a055-7a34-4718-bddd-707900a3f684",
   "metadata": {},
   "outputs": [
    {
     "data": {
      "text/plain": [
       "(282316, 9)"
      ]
     },
     "execution_count": 64,
     "metadata": {},
     "output_type": "execute_result"
    }
   ],
   "source": [
    "test.shape"
   ]
  },
  {
   "cell_type": "code",
   "execution_count": 65,
   "id": "a707e822-ced8-45a9-858a-49d0a4ab1da5",
   "metadata": {},
   "outputs": [
    {
     "data": {
      "text/html": [
       "<div>\n",
       "<style scoped>\n",
       "    .dataframe tbody tr th:only-of-type {\n",
       "        vertical-align: middle;\n",
       "    }\n",
       "\n",
       "    .dataframe tbody tr th {\n",
       "        vertical-align: top;\n",
       "    }\n",
       "\n",
       "    .dataframe thead th {\n",
       "        text-align: right;\n",
       "    }\n",
       "</style>\n",
       "<table border=\"1\" class=\"dataframe\">\n",
       "  <thead>\n",
       "    <tr style=\"text-align: right;\">\n",
       "      <th></th>\n",
       "      <th>user_id_order</th>\n",
       "      <th>isbn_order</th>\n",
       "      <th>rating</th>\n",
       "      <th>book_title</th>\n",
       "      <th>book_author</th>\n",
       "      <th>year_of_publication</th>\n",
       "      <th>publisher</th>\n",
       "      <th>user_id</th>\n",
       "      <th>isbn</th>\n",
       "    </tr>\n",
       "  </thead>\n",
       "  <tbody>\n",
       "    <tr>\n",
       "      <th>656376</th>\n",
       "      <td>1333</td>\n",
       "      <td>85016</td>\n",
       "      <td>8</td>\n",
       "      <td>Wycliffe and the Pea Green Boat</td>\n",
       "      <td>W. J. Burley</td>\n",
       "      <td>NaN</td>\n",
       "      <td>Dell Publishing</td>\n",
       "      <td>40012</td>\n",
       "      <td>440197171</td>\n",
       "    </tr>\n",
       "    <tr>\n",
       "      <th>833997</th>\n",
       "      <td>15469</td>\n",
       "      <td>171031</td>\n",
       "      <td>5</td>\n",
       "      <td>Discourse on Colonialism</td>\n",
       "      <td>AimÃ© CÃ©saire</td>\n",
       "      <td>NaN</td>\n",
       "      <td>New York University Press</td>\n",
       "      <td>127203</td>\n",
       "      <td>1583670254</td>\n",
       "    </tr>\n",
       "    <tr>\n",
       "      <th>638421</th>\n",
       "      <td>1109</td>\n",
       "      <td>78790</td>\n",
       "      <td>0</td>\n",
       "      <td>CLOSING TIME : THE SEQUEL TO CATCH-22, A NOVEL BY</td>\n",
       "      <td>Joseph Heller</td>\n",
       "      <td>NaN</td>\n",
       "      <td>Simon &amp;amp; Schuster</td>\n",
       "      <td>164675</td>\n",
       "      <td>671746049</td>\n",
       "    </tr>\n",
       "    <tr>\n",
       "      <th>818365</th>\n",
       "      <td>233</td>\n",
       "      <td>161149</td>\n",
       "      <td>0</td>\n",
       "      <td>Potpourri : Scented Souvenir (Scented Souvenirs)</td>\n",
       "      <td>Outlet</td>\n",
       "      <td>NaN</td>\n",
       "      <td>Crescent</td>\n",
       "      <td>113519</td>\n",
       "      <td>517030829</td>\n",
       "    </tr>\n",
       "    <tr>\n",
       "      <th>271848</th>\n",
       "      <td>5174</td>\n",
       "      <td>14397</td>\n",
       "      <td>8</td>\n",
       "      <td>LA Ciudad De Las Bestias</td>\n",
       "      <td>Isabel Allende</td>\n",
       "      <td>NaN</td>\n",
       "      <td>Rayo</td>\n",
       "      <td>18384</td>\n",
       "      <td>60510323</td>\n",
       "    </tr>\n",
       "  </tbody>\n",
       "</table>\n",
       "</div>"
      ],
      "text/plain": [
       "        user_id_order  isbn_order  rating  \\\n",
       "656376           1333       85016       8   \n",
       "833997          15469      171031       5   \n",
       "638421           1109       78790       0   \n",
       "818365            233      161149       0   \n",
       "271848           5174       14397       8   \n",
       "\n",
       "                                               book_title     book_author  \\\n",
       "656376                    Wycliffe and the Pea Green Boat    W. J. Burley   \n",
       "833997                           Discourse on Colonialism  AimÃ© CÃ©saire   \n",
       "638421  CLOSING TIME : THE SEQUEL TO CATCH-22, A NOVEL BY   Joseph Heller   \n",
       "818365   Potpourri : Scented Souvenir (Scented Souvenirs)          Outlet   \n",
       "271848                           LA Ciudad De Las Bestias  Isabel Allende   \n",
       "\n",
       "        year_of_publication                  publisher  user_id        isbn  \n",
       "656376                  NaN            Dell Publishing    40012   440197171  \n",
       "833997                  NaN  New York University Press   127203  1583670254  \n",
       "638421                  NaN       Simon &amp; Schuster   164675   671746049  \n",
       "818365                  NaN                   Crescent   113519   517030829  \n",
       "271848                  NaN                       Rayo    18384    60510323  "
      ]
     },
     "execution_count": 65,
     "metadata": {},
     "output_type": "execute_result"
    }
   ],
   "source": [
    "test.head()"
   ]
  },
  {
   "cell_type": "markdown",
   "id": "c1d35241-b1df-4470-8f53-120824e46614",
   "metadata": {},
   "source": [
    "## Make predictions based on user and item variables."
   ]
  },
  {
   "cell_type": "code",
   "execution_count": null,
   "id": "acf1c042-26c7-4f0a-bde7-8d4237f61023",
   "metadata": {},
   "outputs": [],
   "source": [
    "train_matrix = np.zeros((u_users, u_books))\n",
    "for line in train.itertuples():\n",
    "    train_matrix[line[1]-1, line[2]-1] = line[3]"
   ]
  },
  {
   "cell_type": "code",
   "execution_count": null,
   "id": "8cbbd55a-1ce8-4c36-aaf4-981bd0ca0acb",
   "metadata": {},
   "outputs": [],
   "source": [
    "test_matrix = np.zeros((u_users, u_books))\n",
    "for line in test.itertuples():\n",
    "    test_matrix[line[1]-1, line[2]-1] = line[3]"
   ]
  },
  {
   "cell_type": "markdown",
   "id": "5786d032-5c61-4e57-bf8c-057872a15a5b",
   "metadata": {},
   "source": [
    "#### Import Libraries needed"
   ]
  },
  {
   "cell_type": "code",
   "execution_count": null,
   "id": "4f8da63c-7c00-45f5-85bf-9eeabb277016",
   "metadata": {},
   "outputs": [],
   "source": [
    "from sklearn.metrics.pairwise import pairwise_distances "
   ]
  },
  {
   "cell_type": "code",
   "execution_count": null,
   "id": "ade10bf9-9c54-4616-916d-9e8581ca5832",
   "metadata": {},
   "outputs": [],
   "source": [
    "user_corelation = pairwise_distances(train_matrix, metric='cosine')"
   ]
  },
  {
   "cell_type": "code",
   "execution_count": null,
   "id": "cbd11214-b4d4-43b6-bb05-6883cf1ed8cf",
   "metadata": {},
   "outputs": [],
   "source": [
    "item_corelation = pairwise_distances(train_matrix.T, metric='cosine')"
   ]
  },
  {
   "cell_type": "code",
   "execution_count": null,
   "id": "92eee468-7dcd-4067-aa2c-9e4f6a70f82a",
   "metadata": {},
   "outputs": [],
   "source": [
    "user_corelation"
   ]
  },
  {
   "cell_type": "code",
   "execution_count": null,
   "id": "7317cf0c-12e2-4f32-9bfa-267bb20d2a22",
   "metadata": {},
   "outputs": [],
   "source": [
    "def predict(ratings,correlation, type= 'user'):\n",
    "    if type == 'user':\n",
    "        mean_user_rating = ratings.mean(axis=1)\n",
    "        rating_diff = (ratings - mean_user_rating[:,np.newaxis])\n",
    "        pred = mean_user_rating[:, np.newaxis] + correlation.dot(rating_diff) / np.array([np.abs(correlation).sum(axis=1)]).T\n",
    "        elif type == 'item':\n",
    "        pred = ratings.dot(correlation) / np.array([np.abs(correlation).sum(axis=1)])\n",
    "    return pred"
   ]
  },
  {
   "cell_type": "code",
   "execution_count": null,
   "id": "ea3f7829-52f3-4d60-8a28-6dfd95851749",
   "metadata": {},
   "outputs": [],
   "source": [
    "user_prediction = predict(train_matrix, user_correlation, type = 'user')"
   ]
  },
  {
   "cell_type": "code",
   "execution_count": null,
   "id": "d444ce11-e9bf-4ef0-a3fc-2e1fa8f03840",
   "metadata": {},
   "outputs": [],
   "source": [
    "item_prediction = predict(train_matrix, item_correlation, type = 'item')"
   ]
  },
  {
   "cell_type": "code",
   "execution_count": null,
   "id": "93b3c426-31b7-47bb-b3e3-2ec5d774558f",
   "metadata": {},
   "outputs": [],
   "source": [
    "item_prediction.shape"
   ]
  },
  {
   "cell_type": "markdown",
   "id": "e4b180a6-13a9-4b5a-983d-c3fe1791cf07",
   "metadata": {},
   "source": [
    "## Use RMSE to evaluate the predictions."
   ]
  },
  {
   "cell_type": "markdown",
   "id": "ffed7dcc-f876-4ec3-a656-cc68fd0a683d",
   "metadata": {},
   "source": [
    "#### Import Libraries needed"
   ]
  },
  {
   "cell_type": "code",
   "execution_count": null,
   "id": "a14e0da8-9776-43c9-94ee-d79bf29fde6d",
   "metadata": {},
   "outputs": [],
   "source": [
    "from sklearn.metrics import mean_squared_error\n",
    "from math import sqrt"
   ]
  },
  {
   "cell_type": "code",
   "execution_count": null,
   "id": "4283898c-2adf-4265-a991-d264b0c1a6f6",
   "metadata": {},
   "outputs": [],
   "source": [
    "def rmse(prediction, actual):\n",
    "    prediction = prediction[actual.nonzero()].flatten()\n",
    "    actual = actual[actual.nonzero()].flatten()\n",
    "    return sqrt(mean_squared_error(prediction, actual))"
   ]
  },
  {
   "cell_type": "code",
   "execution_count": null,
   "id": "af5880da-6503-435a-a88d-a54e98464072",
   "metadata": {},
   "outputs": [],
   "source": [
    "print('User-based CF RMSE: ' + str(rmse(user_prediction, test_matrix)))"
   ]
  },
  {
   "cell_type": "code",
   "execution_count": null,
   "id": "85a1c5b2-4076-4baa-8ebb-b403aa5bcb44",
   "metadata": {},
   "outputs": [],
   "source": [
    "print('Item-based CF RMSE: ' + str(rmse(item_prediction, test_matrix)))"
   ]
  },
  {
   "cell_type": "markdown",
   "id": "3f2edeb3-eb5f-4c4a-aaa6-426917af01c4",
   "metadata": {},
   "source": [
    "## Recommend Books"
   ]
  },
  {
   "cell_type": "markdown",
   "id": "e6832945-021f-4022-b28d-10f594cacb11",
   "metadata": {},
   "source": [
    "#### Import Libraries needed"
   ]
  },
  {
   "cell_type": "code",
   "execution_count": null,
   "id": "c3c99a49-0cb7-496d-b3c1-1980b2b8b264",
   "metadata": {},
   "outputs": [],
   "source": [
    "from sklearn.metrics.pairwise import cosine_similarity"
   ]
  },
  {
   "cell_type": "code",
   "execution_count": null,
   "id": "717ef4bc-aace-4374-98af-f60bcdc34f02",
   "metadata": {},
   "outputs": [],
   "source": [
    "book_pivot = final_rating.pivot_table(columns=\"user_id\", index=\"book_title\", values=\"rating\")\n",
    "book_pivot.fillna(0, inplace=True)"
   ]
  },
  {
   "cell_type": "code",
   "execution_count": null,
   "id": "06fdd1c3-8470-4107-af2b-68358f6ac4fe",
   "metadata": {
    "scrolled": true
   },
   "outputs": [],
   "source": [
    "book_pivot"
   ]
  },
  {
   "cell_type": "code",
   "execution_count": null,
   "id": "b2896f78-2a23-4896-9ece-bd312e3e15b6",
   "metadata": {},
   "outputs": [],
   "source": [
    "similiarity_scores = cosine_similarity(book_pivot)"
   ]
  },
  {
   "cell_type": "code",
   "execution_count": null,
   "id": "e13e7180-6de3-49b8-b1ce-fc6fe506eacc",
   "metadata": {},
   "outputs": [],
   "source": [
    "def recommend(book_name):\n",
    "    index = np.where(book_pivot.index == book_name)[0][0]\n",
    "    similiar_items = sorted(list(enumerate(similiarity_scores[index])), key = lambda x:x[1], reverse=True)[1:5]\n",
    "    \n",
    "    data = []\n",
    "    for i in similiar_items:\n",
    "        item = []\n",
    "        temp = books[books[\"book_title\"] == book_pivot.index[i[0]]]\n",
    "        item.extend(list(temp.drop_duplicates(\"book_title\")[\"book_title\"].values))\n",
    "        item.extend(list(temp.drop_duplicates(\"book_title\")[\"book_author\"].values))\n",
    "        \n",
    "        data.append(item)\n",
    "        \n",
    "    return data\n"
   ]
  },
  {
   "cell_type": "code",
   "execution_count": null,
   "id": "42769e6a-664c-4989-9d60-d2081a156382",
   "metadata": {},
   "outputs": [],
   "source": [
    "recommend(\"Harry Potter and the Chamber of Secrets (Book 2)\")"
   ]
  },
  {
   "cell_type": "code",
   "execution_count": null,
   "id": "d74886af-0df6-4008-97ce-df2e577b6c6b",
   "metadata": {},
   "outputs": [],
   "source": [
    "recommend(\"The Kitchen God's Wife\")"
   ]
  }
 ],
 "metadata": {
  "kernelspec": {
   "display_name": "Python 3 (ipykernel)",
   "language": "python",
   "name": "python3"
  },
  "language_info": {
   "codemirror_mode": {
    "name": "ipython",
    "version": 3
   },
   "file_extension": ".py",
   "mimetype": "text/x-python",
   "name": "python",
   "nbconvert_exporter": "python",
   "pygments_lexer": "ipython3",
   "version": "3.11.4"
  }
 },
 "nbformat": 4,
 "nbformat_minor": 5
}
